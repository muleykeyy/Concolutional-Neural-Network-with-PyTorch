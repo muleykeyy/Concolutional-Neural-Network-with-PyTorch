{
 "cells": [
  {
   "cell_type": "code",
   "execution_count": 2,
   "id": "32abf165",
   "metadata": {
    "execution": {
     "iopub.execute_input": "2022-08-31T13:37:03.301694Z",
     "iopub.status.busy": "2022-08-31T13:37:03.300870Z",
     "iopub.status.idle": "2022-08-31T13:37:06.515070Z",
     "shell.execute_reply": "2022-08-31T13:37:06.513849Z"
    },
    "papermill": {
     "duration": 3.22439,
     "end_time": "2022-08-31T13:37:06.518081",
     "exception": false,
     "start_time": "2022-08-31T13:37:03.293691",
     "status": "completed"
    },
    "tags": []
   },
   "outputs": [],
   "source": [
    "import pandas as pd\n",
    "import numpy as np\n",
    "import matplotlib.pyplot as plt\n",
    "import torch\n",
    "import torch.nn as nn\n",
    "from torch.autograd import Variable\n",
    "from torch.utils.data import DataLoader\n",
    "from torchvision.utils import make_grid\n",
    "from sklearn.model_selection import train_test_split"
   ]
  },
  {
   "cell_type": "markdown",
   "id": "643596b5",
   "metadata": {
    "papermill": {
     "duration": 0.005532,
     "end_time": "2022-08-31T13:37:06.529546",
     "exception": false,
     "start_time": "2022-08-31T13:37:06.524014",
     "status": "completed"
    },
    "tags": []
   },
   "source": [
    "# **CONVOLUTIONAL NEURAL NETWORK with PYTORCH**"
   ]
  },
  {
   "cell_type": "markdown",
   "id": "6aab31bb",
   "metadata": {
    "papermill": {
     "duration": 0.006361,
     "end_time": "2022-08-31T13:37:06.553015",
     "exception": false,
     "start_time": "2022-08-31T13:37:06.546654",
     "status": "completed"
    },
    "tags": []
   },
   "source": [
    "<a id=\"1\"></a>\n",
    "\n",
    "# **CONVOLUTIONAL NEURAL NETWORK**\n",
    "\n",
    "* CNN's are used for object recognation, object segmentation, detection and computer vision.\n",
    "* CNN's learn directly from image data, so there is no need to perform manuel feature extraction which is commonly required in regular deep neural networks.\n"
   ]
  },
  {
   "cell_type": "markdown",
   "id": "f0d3291b",
   "metadata": {
    "papermill": {
     "duration": 0.005456,
     "end_time": "2022-08-31T13:37:06.564866",
     "exception": false,
     "start_time": "2022-08-31T13:37:06.559410",
     "status": "completed"
    },
    "tags": []
   },
   "source": [
    "<a id=\"2\"></a>\n",
    "\n",
    "# **LOAD & PREPARE DATA**"
   ]
  },
  {
   "cell_type": "code",
   "execution_count": 3,
   "id": "fd9b7c29",
   "metadata": {
    "execution": {
     "iopub.execute_input": "2022-08-31T13:37:06.578429Z",
     "iopub.status.busy": "2022-08-31T13:37:06.577790Z",
     "iopub.status.idle": "2022-08-31T13:37:10.081069Z",
     "shell.execute_reply": "2022-08-31T13:37:10.079812Z"
    },
    "papermill": {
     "duration": 3.513331,
     "end_time": "2022-08-31T13:37:10.083985",
     "exception": false,
     "start_time": "2022-08-31T13:37:06.570654",
     "status": "completed"
    },
    "tags": []
   },
   "outputs": [],
   "source": [
    "train=pd.read_csv(\"../input/mnist-data/train.csv\",dtype=np.float32)"
   ]
  },
  {
   "cell_type": "code",
   "execution_count": 4,
   "id": "d6d35468",
   "metadata": {
    "execution": {
     "iopub.execute_input": "2022-08-31T13:37:10.097492Z",
     "iopub.status.busy": "2022-08-31T13:37:10.097099Z",
     "iopub.status.idle": "2022-08-31T13:37:10.219696Z",
     "shell.execute_reply": "2022-08-31T13:37:10.218545Z"
    },
    "papermill": {
     "duration": 0.132634,
     "end_time": "2022-08-31T13:37:10.222552",
     "exception": false,
     "start_time": "2022-08-31T13:37:10.089918",
     "status": "completed"
    },
    "tags": []
   },
   "outputs": [],
   "source": [
    "label_array=train.label.values\n",
    "features_array=train.iloc[:,train.columns != \"label\"].values/255 # Normalize"
   ]
  },
  {
   "cell_type": "code",
   "execution_count": 5,
   "id": "b8ecad05",
   "metadata": {
    "execution": {
     "iopub.execute_input": "2022-08-31T13:37:10.235859Z",
     "iopub.status.busy": "2022-08-31T13:37:10.235444Z",
     "iopub.status.idle": "2022-08-31T13:37:10.586425Z",
     "shell.execute_reply": "2022-08-31T13:37:10.585158Z"
    },
    "papermill": {
     "duration": 0.360861,
     "end_time": "2022-08-31T13:37:10.589190",
     "exception": false,
     "start_time": "2022-08-31T13:37:10.228329",
     "status": "completed"
    },
    "tags": []
   },
   "outputs": [],
   "source": [
    "# Train - Test Split:\n",
    "features_train,features_test,label_train,label_test=train_test_split(features_array,label_array,test_size=0.2,random_state=42)"
   ]
  },
  {
   "cell_type": "code",
   "execution_count": 6,
   "id": "a9e43927",
   "metadata": {
    "execution": {
     "iopub.execute_input": "2022-08-31T13:37:10.603011Z",
     "iopub.status.busy": "2022-08-31T13:37:10.602080Z",
     "iopub.status.idle": "2022-08-31T13:37:10.608925Z",
     "shell.execute_reply": "2022-08-31T13:37:10.607787Z"
    },
    "papermill": {
     "duration": 0.016365,
     "end_time": "2022-08-31T13:37:10.611287",
     "exception": false,
     "start_time": "2022-08-31T13:37:10.594922",
     "status": "completed"
    },
    "tags": []
   },
   "outputs": [],
   "source": [
    "# Lets create feature and label tensor for train:\n",
    "featuresTrain=torch.from_numpy(features_train)\n",
    "labelTrain=torch.from_numpy(label_train).type(torch.LongTensor)\n",
    "\n",
    "# Now create feature and label tensor for test:\n",
    "featuresTest=torch.from_numpy(features_test)\n",
    "labelTest=torch.from_numpy(label_test).type(torch.LongTensor)"
   ]
  },
  {
   "cell_type": "code",
   "execution_count": 7,
   "id": "4a01ce33",
   "metadata": {
    "execution": {
     "iopub.execute_input": "2022-08-31T13:37:10.625235Z",
     "iopub.status.busy": "2022-08-31T13:37:10.624420Z",
     "iopub.status.idle": "2022-08-31T13:37:10.907694Z",
     "shell.execute_reply": "2022-08-31T13:37:10.906478Z"
    },
    "papermill": {
     "duration": 0.293148,
     "end_time": "2022-08-31T13:37:10.910176",
     "exception": false,
     "start_time": "2022-08-31T13:37:10.617028",
     "status": "completed"
    },
    "tags": []
   },
   "outputs": [
    {
     "data": {
      "image/png": "[encoded data removed]",
      "text/plain": [
       "<Figure size 1080x504 with 1 Axes>"
      ]
     },
     "metadata": {
      "needs_background": "light"
     },
     "output_type": "display_data"
    }
   ],
   "source": [
    "plt.figure(figsize=(15,7))\n",
    "plt.bar(train[\"label\"].value_counts().index,train[\"label\"].value_counts())\n",
    "plt.xticks(np.arange(len(set(train['label']))))\n",
    "plt.xlabel('Class', fontsize=16)\n",
    "plt.ylabel('Count', fontsize=16)\n",
    "plt.grid('on', axis='y')"
   ]
  },
  {
   "cell_type": "code",
   "execution_count": 8,
   "id": "5e9b5c82",
   "metadata": {
    "execution": {
     "iopub.execute_input": "2022-08-31T13:37:10.924401Z",
     "iopub.status.busy": "2022-08-31T13:37:10.923990Z",
     "iopub.status.idle": "2022-08-31T13:37:11.012084Z",
     "shell.execute_reply": "2022-08-31T13:37:11.010723Z"
    },
    "papermill": {
     "duration": 0.098767,
     "end_time": "2022-08-31T13:37:11.015521",
     "exception": false,
     "start_time": "2022-08-31T13:37:10.916754",
     "status": "completed"
    },
    "tags": []
   },
   "outputs": [
    {
     "data": {
      "image/png": "[encoded data removed]",
      "text/plain": [
       "<Figure size 432x288 with 1 Axes>"
      ]
     },
     "metadata": {
      "needs_background": "light"
     },
     "output_type": "display_data"
    }
   ],
   "source": [
    "# Lets visualize some of images:\n",
    "plt.imshow(features_array[90].reshape(28,28))\n",
    "plt.axis(\"off\")\n",
    "plt.title(str(label_array[90]))\n",
    "plt.show()"
   ]
  },
  {
   "cell_type": "markdown",
   "id": "44247e53",
   "metadata": {
    "papermill": {
     "duration": 0.009152,
     "end_time": "2022-08-31T13:37:11.034446",
     "exception": false,
     "start_time": "2022-08-31T13:37:11.025294",
     "status": "completed"
    },
    "tags": []
   },
   "source": [
    "<a id=\"3\"></a>\n",
    "\n",
    "# **CONVOLUTIONAL MODEL**"
   ]
  },
  {
   "cell_type": "code",
   "execution_count": 9,
   "id": "59451413",
   "metadata": {
    "execution": {
     "iopub.execute_input": "2022-08-31T13:37:11.059246Z",
     "iopub.status.busy": "2022-08-31T13:37:11.058156Z",
     "iopub.status.idle": "2022-08-31T13:37:11.073986Z",
     "shell.execute_reply": "2022-08-31T13:37:11.072860Z"
    },
    "papermill": {
     "duration": 0.031855,
     "end_time": "2022-08-31T13:37:11.076662",
     "exception": false,
     "start_time": "2022-08-31T13:37:11.044807",
     "status": "completed"
    },
    "tags": []
   },
   "outputs": [],
   "source": [
    "# CNN Model:\n",
    "class CNNModel(nn.Module):\n",
    "    def __init__(self):\n",
    "        super(CNNModel,self).__init__()\n",
    "        \n",
    "        # First Convolution\n",
    "        self.cnn1=nn.Conv2d(in_channels=1,out_channels=16,kernel_size=5,stride=1,padding=1)\n",
    "        self.relu1=nn.ReLU()\n",
    "        \n",
    "        # Max Pooling 1\n",
    "        self.maxpool1=nn.MaxPool2d(kernel_size=2)\n",
    "        \n",
    "        # Second Convolution\n",
    "        self.cnn2=nn.Conv2d(in_channels=16,out_channels=32,kernel_size=5,stride=1)\n",
    "        self.relu2=nn.ReLU()\n",
    "        \n",
    "        # Max Pooling 2\n",
    "        self.maxpool2=nn.MaxPool2d(kernel_size=2)\n",
    "        \n",
    "        # Fully Connected 1\n",
    "        self.fc1=nn.Linear(32*4*4,10)\n",
    "    \n",
    "    def forward(self,x):\n",
    "        # First Convolution\n",
    "        out=self.cnn1(x)\n",
    "        out=self.relu1(out)\n",
    "        # Max pooling\n",
    "        out=self.maxpool1(out)\n",
    "        # Second Convolution\n",
    "        out=self.cnn2(out)\n",
    "        out=self.relu2(out)\n",
    "        #Max pooling\n",
    "        out=self.maxpool2(out)\n",
    "        # Flatten\n",
    "        out=out.view(out.size(0),-1)\n",
    "        # Linear Function\n",
    "        out=self.fc1(out)\n",
    "        return out"
   ]
  },
  {
   "cell_type": "code",
   "execution_count": 10,
   "id": "653938a4",
   "metadata": {
    "execution": {
     "iopub.execute_input": "2022-08-31T13:37:11.091275Z",
     "iopub.status.busy": "2022-08-31T13:37:11.090536Z",
     "iopub.status.idle": "2022-08-31T13:37:11.096542Z",
     "shell.execute_reply": "2022-08-31T13:37:11.095694Z"
    },
    "papermill": {
     "duration": 0.016142,
     "end_time": "2022-08-31T13:37:11.098898",
     "exception": false,
     "start_time": "2022-08-31T13:37:11.082756",
     "status": "completed"
    },
    "tags": []
   },
   "outputs": [],
   "source": [
    "batch_size=100\n",
    "n_iter=2500\n",
    "num_epoch=n_iter/(len(features_train)/batch_size)\n",
    "num_epoch=int(num_epoch)"
   ]
  },
  {
   "cell_type": "code",
   "execution_count": 11,
   "id": "57a6d011",
   "metadata": {
    "execution": {
     "iopub.execute_input": "2022-08-31T13:37:11.112962Z",
     "iopub.status.busy": "2022-08-31T13:37:11.112078Z",
     "iopub.status.idle": "2022-08-31T13:37:11.119260Z",
     "shell.execute_reply": "2022-08-31T13:37:11.117889Z"
    },
    "papermill": {
     "duration": 0.016756,
     "end_time": "2022-08-31T13:37:11.121699",
     "exception": false,
     "start_time": "2022-08-31T13:37:11.104943",
     "status": "completed"
    },
    "tags": []
   },
   "outputs": [],
   "source": [
    "# PyTorch Train Test\n",
    "train_py=torch.utils.data.TensorDataset(featuresTrain,labelTrain)\n",
    "test_py=torch.utils.data.TensorDataset(featuresTest,labelTest)"
   ]
  },
  {
   "cell_type": "code",
   "execution_count": 12,
   "id": "0d0ae933",
   "metadata": {
    "execution": {
     "iopub.execute_input": "2022-08-31T13:37:11.136476Z",
     "iopub.status.busy": "2022-08-31T13:37:11.135217Z",
     "iopub.status.idle": "2022-08-31T13:37:11.141609Z",
     "shell.execute_reply": "2022-08-31T13:37:11.140525Z"
    },
    "papermill": {
     "duration": 0.016004,
     "end_time": "2022-08-31T13:37:11.143989",
     "exception": false,
     "start_time": "2022-08-31T13:37:11.127985",
     "status": "completed"
    },
    "tags": []
   },
   "outputs": [],
   "source": [
    "# Data Loader\n",
    "train_loader=torch.utils.data.DataLoader(train_py,batch_size=batch_size,shuffle=False)\n",
    "test_loader=torch.utils.data.DataLoader(test_py,batch_size=batch_size,shuffle=False)"
   ]
  },
  {
   "cell_type": "code",
   "execution_count": 13,
   "id": "a7fd1d87",
   "metadata": {
    "execution": {
     "iopub.execute_input": "2022-08-31T13:37:11.158336Z",
     "iopub.status.busy": "2022-08-31T13:37:11.157387Z",
     "iopub.status.idle": "2022-08-31T13:37:11.168072Z",
     "shell.execute_reply": "2022-08-31T13:37:11.166864Z"
    },
    "papermill": {
     "duration": 0.02065,
     "end_time": "2022-08-31T13:37:11.170700",
     "exception": false,
     "start_time": "2022-08-31T13:37:11.150050",
     "status": "completed"
    },
    "tags": []
   },
   "outputs": [],
   "source": [
    "model=CNNModel()\n",
    "error=nn.CrossEntropyLoss()\n",
    "learning_rate=0.1\n",
    "optimizer=torch.optim.SGD(model.parameters(),lr=learning_rate)"
   ]
  },
  {
   "cell_type": "markdown",
   "id": "7870a180",
   "metadata": {
    "papermill": {
     "duration": 0.005697,
     "end_time": "2022-08-31T13:37:11.182513",
     "exception": false,
     "start_time": "2022-08-31T13:37:11.176816",
     "status": "completed"
    },
    "tags": []
   },
   "source": [
    "<a id=\"4\"></a>\n",
    "\n",
    "# **TRAIN**"
   ]
  },
  {
   "cell_type": "code",
   "execution_count": 14,
   "id": "6c44e9de",
   "metadata": {
    "execution": {
     "iopub.execute_input": "2022-08-31T13:37:11.196166Z",
     "iopub.status.busy": "2022-08-31T13:37:11.195735Z",
     "iopub.status.idle": "2022-08-31T13:39:20.757253Z",
     "shell.execute_reply": "2022-08-31T13:39:20.755712Z"
    },
    "papermill": {
     "duration": 129.571757,
     "end_time": "2022-08-31T13:39:20.760280",
     "exception": false,
     "start_time": "2022-08-31T13:37:11.188523",
     "status": "completed"
    },
    "tags": []
   },
   "outputs": [
    {
     "name": "stdout",
     "output_type": "stream",
     "text": [
      "Iteration 100 Loss: 0.27129480242729187 Accuracy 90.25 %\n",
      "Iteration 200 Loss: 0.2841324806213379 Accuracy 94.36904907226562 %\n",
      "Iteration 300 Loss: 0.2091638445854187 Accuracy 95.02381134033203 %\n",
      "Iteration 400 Loss: 0.14656944572925568 Accuracy 96.29762268066406 %\n",
      "Iteration 500 Loss: 0.10585996508598328 Accuracy 96.72618865966797 %\n",
      "Iteration 600 Loss: 0.15081888437271118 Accuracy 96.6547622680664 %\n",
      "Iteration 700 Loss: 0.08111236244440079 Accuracy 96.96428680419922 %\n",
      "Iteration 800 Loss: 0.06348193436861038 Accuracy 97.39286041259766 %\n",
      "Iteration 900 Loss: 0.026358989998698235 Accuracy 97.52381134033203 %\n",
      "Iteration 1000 Loss: 0.051215361803770065 Accuracy 97.71428680419922 %\n",
      "Iteration 1100 Loss: 0.012491599656641483 Accuracy 97.88095092773438 %\n",
      "Iteration 1200 Loss: 0.016971861943602562 Accuracy 97.98809814453125 %\n",
      "Iteration 1300 Loss: 0.06939448416233063 Accuracy 97.76190185546875 %\n",
      "Iteration 1400 Loss: 0.25736871361732483 Accuracy 97.75 %\n",
      "Iteration 1500 Loss: 0.045227158814668655 Accuracy 97.88095092773438 %\n",
      "Iteration 1600 Loss: 0.132168710231781 Accuracy 97.95237731933594 %\n",
      "Iteration 1700 Loss: 0.0839264765381813 Accuracy 98.02381134033203 %\n",
      "Iteration 1800 Loss: 0.042741015553474426 Accuracy 98.19047546386719 %\n",
      "Iteration 1900 Loss: 0.010258427821099758 Accuracy 98.23809814453125 %\n",
      "Iteration 2000 Loss: 0.018776802346110344 Accuracy 98.23809814453125 %\n",
      "Iteration 2100 Loss: 0.02923762984573841 Accuracy 97.89286041259766 %\n",
      "Iteration 2200 Loss: 0.053034573793411255 Accuracy 98.4047622680664 %\n",
      "Iteration 2300 Loss: 0.024747757241129875 Accuracy 98.17857360839844 %\n"
     ]
    }
   ],
   "source": [
    "count=0\n",
    "loss_list=[]\n",
    "iteration_list=[]\n",
    "accuracy_list=[]\n",
    "\n",
    "for epoch in range(num_epoch):\n",
    "    for i, (images,labels) in enumerate(train_loader):\n",
    "        train=Variable(images.view(100,1,28,28))\n",
    "        labels=Variable(labels)\n",
    "        \n",
    "        # Gradients\n",
    "        optimizer.zero_grad()\n",
    "        # Forward Propagation\n",
    "        outputs=model(train)\n",
    "        # Calculate Sotmax and Cross Entropy Loss\n",
    "        loss=error(outputs,labels)\n",
    "        # Calculate Gradients\n",
    "        loss.backward()\n",
    "        # Update parameters\n",
    "        optimizer.step()\n",
    "        count+=1\n",
    "        \n",
    "        if count % 20 ==0:\n",
    "            correct=0\n",
    "            total=0\n",
    "            \n",
    "            for images,labels in test_loader:\n",
    "                test=Variable(images.view(100,1,28,28))\n",
    "                \n",
    "                # Forward Propagation\n",
    "                outputs=model(test)\n",
    "                # Prediction\n",
    "                prediction=torch.max(outputs.data,1)[1]\n",
    "                total +=len(labels)\n",
    "                correct += (prediction==labels).sum()\n",
    "            accuracy=100*correct/float(total)\n",
    "            \n",
    "            # Store Results:\n",
    "            loss_list.append(loss.data)\n",
    "            iteration_list.append(count)\n",
    "            accuracy_list.append(accuracy)\n",
    "        if count % 100 == 0:\n",
    "            print(\"Iteration {} Loss: {} Accuracy {} %\".format(count,loss,accuracy))"
   ]
  },
  {
   "cell_type": "code",
   "execution_count": 15,
   "id": "82e6867e",
   "metadata": {
    "execution": {
     "iopub.execute_input": "2022-08-31T13:39:20.778624Z",
     "iopub.status.busy": "2022-08-31T13:39:20.777859Z",
     "iopub.status.idle": "2022-08-31T13:39:20.957195Z",
     "shell.execute_reply": "2022-08-31T13:39:20.956006Z"
    },
    "papermill": {
     "duration": 0.191305,
     "end_time": "2022-08-31T13:39:20.959880",
     "exception": false,
     "start_time": "2022-08-31T13:39:20.768575",
     "status": "completed"
    },
    "tags": []
   },
   "outputs": [
    {
     "data": {
      "image/png": "[encoded data removed]",
      "text/plain": [
       "<Figure size 432x288 with 1 Axes>"
      ]
     },
     "metadata": {
      "needs_background": "light"
     },
     "output_type": "display_data"
    }
   ],
   "source": [
    "plt.plot(iteration_list,loss_list)\n",
    "plt.xlabel(\"Number of Iteration\")\n",
    "plt.ylabel(\"Loss\")\n",
    "plt.title(\"Loss & Number of Iteration\")\n",
    "plt.show()"
   ]
  },
  {
   "cell_type": "code",
   "execution_count": 16,
   "id": "66391bd6",
   "metadata": {
    "execution": {
     "iopub.execute_input": "2022-08-31T13:39:20.978012Z",
     "iopub.status.busy": "2022-08-31T13:39:20.977546Z",
     "iopub.status.idle": "2022-08-31T13:39:21.286830Z",
     "shell.execute_reply": "2022-08-31T13:39:21.285700Z"
    },
    "papermill": {
     "duration": 0.321056,
     "end_time": "2022-08-31T13:39:21.289260",
     "exception": false,
     "start_time": "2022-08-31T13:39:20.968204",
     "status": "completed"
    },
    "tags": []
   },
   "outputs": [
    {
     "data": {
      "image/png": "[encoded data removed]",
      "text/plain": [
       "<Figure size 432x288 with 1 Axes>"
      ]
     },
     "metadata": {
      "needs_background": "light"
     },
     "output_type": "display_data"
    }
   ],
   "source": [
    "plt.plot(iteration_list,accuracy_list,color=\"red\")\n",
    "plt.xlabel(\"Number of Iteration\")\n",
    "plt.ylabel(\"Accuracy\")\n",
    "plt.title(\"Accuracy & Number of Iteration\")\n",
    "plt.show()"
   ]
  }
 ],
 "metadata": {
  "kernelspec": {
   "display_name": "Python 3 (ipykernel)",
   "language": "python",
   "name": "python3"
  },
  "language_info": {
   "codemirror_mode": {
    "name": "ipython",
    "version": 3
   },
   "file_extension": ".py",
   "mimetype": "text/x-python",
   "name": "python",
   "nbconvert_exporter": "python",
   "pygments_lexer": "ipython3",
   "version": "3.9.7"
  },
  "papermill": {
   "default_parameters": {},
   "duration": 148.345907,
   "end_time": "2022-08-31T13:39:22.224184",
   "environment_variables": {},
   "exception": null,
   "input_path": "__notebook__.ipynb",
   "output_path": "__notebook__.ipynb",
   "parameters": {},
   "start_time": "2022-08-31T13:36:53.878277",
   "version": "2.3.4"
  }
 },
 "nbformat": 4,
 "nbformat_minor": 5
}
