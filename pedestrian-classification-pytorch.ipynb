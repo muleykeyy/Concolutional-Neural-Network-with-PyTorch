{
 "cells": [
  {
   "cell_type": "markdown",
   "id": "6f891281",
   "metadata": {
    "papermill": {
     "duration": 0.006007,
     "end_time": "2022-09-06T08:45:30.715945",
     "exception": false,
     "start_time": "2022-09-06T08:45:30.709938",
     "status": "completed"
    },
    "tags": []
   },
   "source": [
    "# **📚IMPORT LIBRARIES**"
   ]
  },
  {
   "cell_type": "code",
   "execution_count": 2,
   "id": "5e72602a",
   "metadata": {
    "execution": {
     "iopub.execute_input": "2022-09-06T08:45:30.729754Z",
     "iopub.status.busy": "2022-09-06T08:45:30.729290Z",
     "iopub.status.idle": "2022-09-06T08:45:32.266291Z",
     "shell.execute_reply": "2022-09-06T08:45:32.265341Z"
    },
    "papermill": {
     "duration": 1.546437,
     "end_time": "2022-09-06T08:45:32.268577",
     "exception": false,
     "start_time": "2022-09-06T08:45:30.722140",
     "status": "completed"
    },
    "tags": []
   },
   "outputs": [],
   "source": [
    "import pandas as pd\n",
    "import numpy as np\n",
    "import torch\n",
    "import torch.nn as nn\n",
    "import torch.nn.functional as F\n",
    "import torch.utils.data\n",
    "from PIL import Image #PIL: Python Image Library\n",
    "import matplotlib.pyplot as plt\n",
    "import os\n",
    "import time\n",
    "import torch.optim as optim"
   ]
  },
  {
   "cell_type": "markdown",
   "id": "29b69286",
   "metadata": {
    "papermill": {
     "duration": 0.005945,
     "end_time": "2022-09-06T08:45:32.293293",
     "exception": false,
     "start_time": "2022-09-06T08:45:32.287348",
     "status": "completed"
    },
    "tags": []
   },
   "source": [
    "<a id=\"1\"></a>\n",
    "\n",
    "# **📂LOAD & PREPARE DATA**"
   ]
  },
  {
   "cell_type": "code",
   "execution_count": 3,
   "id": "7b96b3d2",
   "metadata": {
    "execution": {
     "iopub.execute_input": "2022-09-06T08:45:32.307373Z",
     "iopub.status.busy": "2022-09-06T08:45:32.306857Z",
     "iopub.status.idle": "2022-09-06T08:45:32.313318Z",
     "shell.execute_reply": "2022-09-06T08:45:32.312315Z"
    },
    "papermill": {
     "duration": 0.015835,
     "end_time": "2022-09-06T08:45:32.315247",
     "exception": false,
     "start_time": "2022-09-06T08:45:32.299412",
     "status": "completed"
    },
    "tags": []
   },
   "outputs": [],
   "source": [
    "def read_images(path,num_img):\n",
    "    array=np.zeros([num_img,64*32])\n",
    "    i=0\n",
    "    for img in os.listdir(path):\n",
    "        img_path=path + \"/\" + img\n",
    "        img=Image.open(img_path,mode=\"r\")\n",
    "        data=np.asarray(img,dtype=\"uint8\")\n",
    "        data=data.flatten()\n",
    "        array[i,:]=data\n",
    "        i+=1\n",
    "    return array"
   ]
  },
  {
   "cell_type": "code",
   "execution_count": 4,
   "id": "c68ee828",
   "metadata": {
    "execution": {
     "iopub.execute_input": "2022-09-06T08:45:32.329887Z",
     "iopub.status.busy": "2022-09-06T08:45:32.328986Z",
     "iopub.status.idle": "2022-09-06T08:45:32.333456Z",
     "shell.execute_reply": "2022-09-06T08:45:32.332903Z"
    },
    "papermill": {
     "duration": 0.013242,
     "end_time": "2022-09-06T08:45:32.335066",
     "exception": false,
     "start_time": "2022-09-06T08:45:32.321824",
     "status": "completed"
    },
    "tags": []
   },
   "outputs": [],
   "source": [
    "train_path=\"../input/lsi-far-infrared-pedestrian-dataset/LSIFIR/Classification/Train\"\n",
    "test_path=\"../input/lsi-far-infrared-pedestrian-dataset/LSIFIR/Classification/Test\"\n",
    "\n",
    "train_negative_path=train_path + \"/neg\"\n",
    "numOf_train_negative_img=43390\n",
    "train_positive_path=train_path + \"/pos\"\n",
    "numOf_train_positive_img=10208\n",
    "\n",
    "test_negative_path=test_path + \"/neg\"\n",
    "numOf_test_negative_img=22050\n",
    "test_positive_path=test_path + \"/pos\"\n",
    "numOf_test_positive_img=5944"
   ]
  },
  {
   "cell_type": "markdown",
   "id": "b28d94a9",
   "metadata": {
    "papermill": {
     "duration": 0.006083,
     "end_time": "2022-09-06T08:45:32.347823",
     "exception": false,
     "start_time": "2022-09-06T08:45:32.341740",
     "status": "completed"
    },
    "tags": []
   },
   "source": [
    "# **➖READ TRAIN NEGATIVE**"
   ]
  },
  {
   "cell_type": "code",
   "execution_count": 5,
   "id": "e4d5d2ff",
   "metadata": {
    "execution": {
     "iopub.execute_input": "2022-09-06T08:45:32.361963Z",
     "iopub.status.busy": "2022-09-06T08:45:32.361395Z",
     "iopub.status.idle": "2022-09-06T08:49:19.331096Z",
     "shell.execute_reply": "2022-09-06T08:49:19.330122Z"
    },
    "papermill": {
     "duration": 226.985463,
     "end_time": "2022-09-06T08:49:19.339440",
     "exception": false,
     "start_time": "2022-09-06T08:45:32.353977",
     "status": "completed"
    },
    "tags": []
   },
   "outputs": [
    {
     "name": "stdout",
     "output_type": "stream",
     "text": [
      "Size of X Train Negative Tensor:  torch.Size([43390, 2048])\n",
      "Size of Y Train Negative Tensor:  torch.Size([43390])\n"
     ]
    }
   ],
   "source": [
    "# X TRAIN NEGATIVE\n",
    "train_negative_array=read_images(train_negative_path,numOf_train_negative_img)\n",
    "x_train_negative_tensor=torch.from_numpy(train_negative_array)\n",
    "print(\"Size of X Train Negative Tensor: \", x_train_negative_tensor.size())\n",
    "\n",
    "# Y TRAIN NEGATIVE\n",
    "y_train_negative_tensor=torch.zeros(numOf_train_negative_img,dtype=torch.long)\n",
    "print(\"Size of Y Train Negative Tensor: \", y_train_negative_tensor.size())"
   ]
  },
  {
   "cell_type": "markdown",
   "id": "b7b31f9d",
   "metadata": {
    "papermill": {
     "duration": 0.006457,
     "end_time": "2022-09-06T08:49:19.353979",
     "exception": false,
     "start_time": "2022-09-06T08:49:19.347522",
     "status": "completed"
    },
    "tags": []
   },
   "source": [
    "# **➕READ TRAIN POSITIVE**"
   ]
  },
  {
   "cell_type": "code",
   "execution_count": 6,
   "id": "fe973906",
   "metadata": {
    "execution": {
     "iopub.execute_input": "2022-09-06T08:49:19.368232Z",
     "iopub.status.busy": "2022-09-06T08:49:19.367851Z",
     "iopub.status.idle": "2022-09-06T08:50:08.362261Z",
     "shell.execute_reply": "2022-09-06T08:50:08.360823Z"
    },
    "papermill": {
     "duration": 49.009907,
     "end_time": "2022-09-06T08:50:08.370277",
     "exception": false,
     "start_time": "2022-09-06T08:49:19.360370",
     "status": "completed"
    },
    "tags": []
   },
   "outputs": [
    {
     "name": "stdout",
     "output_type": "stream",
     "text": [
      "Size of X Train Positive Tensor:  torch.Size([10208, 2048])\n",
      "Size of Y Train Positive Tensor:  torch.Size([10208])\n"
     ]
    }
   ],
   "source": [
    "# X TRAIN POSITIVE\n",
    "train_positive_array=read_images(train_positive_path,numOf_train_positive_img)\n",
    "x_train_positive_tensor=torch.from_numpy(train_positive_array)\n",
    "print(\"Size of X Train Positive Tensor: \", x_train_positive_tensor.size())\n",
    "\n",
    "# Y TRAIN POSITIVE\n",
    "y_train_positive_tensor=torch.ones(numOf_train_positive_img,dtype=torch.long)\n",
    "print(\"Size of Y Train Positive Tensor: \",y_train_positive_tensor.size())"
   ]
  },
  {
   "cell_type": "markdown",
   "id": "d2c9dc7d",
   "metadata": {
    "papermill": {
     "duration": 0.006272,
     "end_time": "2022-09-06T08:50:08.383065",
     "exception": false,
     "start_time": "2022-09-06T08:50:08.376793",
     "status": "completed"
    },
    "tags": []
   },
   "source": [
    "# **🛠️CONCAT TRAINS**"
   ]
  },
  {
   "cell_type": "code",
   "execution_count": 7,
   "id": "b809b6e9",
   "metadata": {
    "execution": {
     "iopub.execute_input": "2022-09-06T08:50:08.398321Z",
     "iopub.status.busy": "2022-09-06T08:50:08.397537Z",
     "iopub.status.idle": "2022-09-06T08:50:08.595321Z",
     "shell.execute_reply": "2022-09-06T08:50:08.593497Z"
    },
    "papermill": {
     "duration": 0.207752,
     "end_time": "2022-09-06T08:50:08.597573",
     "exception": false,
     "start_time": "2022-09-06T08:50:08.389821",
     "status": "completed"
    },
    "tags": []
   },
   "outputs": [
    {
     "name": "stdout",
     "output_type": "stream",
     "text": [
      "Size of X Train:  torch.Size([53598, 2048])\n",
      "Size of Y Train:  torch.Size([53598])\n"
     ]
    }
   ],
   "source": [
    "x_train=torch.cat((x_train_negative_tensor,x_train_positive_tensor),0)\n",
    "y_train=torch.cat((y_train_negative_tensor,y_train_positive_tensor),0)\n",
    "print(\"Size of X Train: \",x_train.size())\n",
    "print(\"Size of Y Train: \",y_train.size())"
   ]
  },
  {
   "cell_type": "markdown",
   "id": "d8e73f07",
   "metadata": {
    "papermill": {
     "duration": 0.006491,
     "end_time": "2022-09-06T08:50:08.610714",
     "exception": false,
     "start_time": "2022-09-06T08:50:08.604223",
     "status": "completed"
    },
    "tags": []
   },
   "source": [
    "# **➖READ TEST NEGATIVE**"
   ]
  },
  {
   "cell_type": "code",
   "execution_count": 8,
   "id": "7e8e5129",
   "metadata": {
    "execution": {
     "iopub.execute_input": "2022-09-06T08:50:08.625284Z",
     "iopub.status.busy": "2022-09-06T08:50:08.624866Z",
     "iopub.status.idle": "2022-09-06T08:51:56.498764Z",
     "shell.execute_reply": "2022-09-06T08:51:56.497741Z"
    },
    "papermill": {
     "duration": 107.887717,
     "end_time": "2022-09-06T08:51:56.504898",
     "exception": false,
     "start_time": "2022-09-06T08:50:08.617181",
     "status": "completed"
    },
    "tags": []
   },
   "outputs": [
    {
     "name": "stdout",
     "output_type": "stream",
     "text": [
      "Size of X Test Negative Tensor:  torch.Size([20855, 2048])\n",
      "Size of Y Test Negative Tensor:  torch.Size([20855])\n"
     ]
    }
   ],
   "source": [
    "# X TEST NEGATIVE\n",
    "test_negative_array=read_images(test_negative_path,numOf_test_negative_img)\n",
    "x_test_negative_tensor=torch.from_numpy(test_negative_array[:20855,:])\n",
    "print(\"Size of X Test Negative Tensor: \", x_test_negative_tensor.size())\n",
    "\n",
    "# Y TEST NEGATIVE\n",
    "y_test_negative_tensor=torch.zeros(20855,dtype=torch.long)\n",
    "print(\"Size of Y Test Negative Tensor: \", y_test_negative_tensor.size())"
   ]
  },
  {
   "cell_type": "markdown",
   "id": "1abe35c6",
   "metadata": {
    "papermill": {
     "duration": 0.006022,
     "end_time": "2022-09-06T08:51:56.517377",
     "exception": false,
     "start_time": "2022-09-06T08:51:56.511355",
     "status": "completed"
    },
    "tags": []
   },
   "source": [
    "# **➕READ TEST POSITIVE**"
   ]
  },
  {
   "cell_type": "code",
   "execution_count": 9,
   "id": "378408b9",
   "metadata": {
    "execution": {
     "iopub.execute_input": "2022-09-06T08:51:56.532825Z",
     "iopub.status.busy": "2022-09-06T08:51:56.532465Z",
     "iopub.status.idle": "2022-09-06T08:52:24.576204Z",
     "shell.execute_reply": "2022-09-06T08:52:24.574770Z"
    },
    "papermill": {
     "duration": 28.054032,
     "end_time": "2022-09-06T08:52:24.578358",
     "exception": false,
     "start_time": "2022-09-06T08:51:56.524326",
     "status": "completed"
    },
    "tags": []
   },
   "outputs": [
    {
     "name": "stdout",
     "output_type": "stream",
     "text": [
      "Size of X Train Positive Tensor:  torch.Size([5944, 2048])\n",
      "Size of Y Train Positive Tensor:  torch.Size([5944])\n"
     ]
    }
   ],
   "source": [
    "# X TEST POSITIVE\n",
    "test_positive_array=read_images(test_positive_path,numOf_test_positive_img)\n",
    "x_test_positive_tensor=torch.from_numpy(test_positive_array)\n",
    "print(\"Size of X Train Positive Tensor: \", x_test_positive_tensor.size())\n",
    "\n",
    "# Y TEST POSITIVE\n",
    "y_test_positive_tensor=torch.ones(numOf_test_positive_img,dtype=torch.long)\n",
    "print(\"Size of Y Train Positive Tensor: \",y_test_positive_tensor.size())"
   ]
  },
  {
   "cell_type": "markdown",
   "id": "fdff1b68",
   "metadata": {
    "papermill": {
     "duration": 0.006404,
     "end_time": "2022-09-06T08:52:24.591512",
     "exception": false,
     "start_time": "2022-09-06T08:52:24.585108",
     "status": "completed"
    },
    "tags": []
   },
   "source": [
    "# **🛠️CONCAT TESTS**"
   ]
  },
  {
   "cell_type": "code",
   "execution_count": 10,
   "id": "730291be",
   "metadata": {
    "execution": {
     "iopub.execute_input": "2022-09-06T08:52:24.605964Z",
     "iopub.status.busy": "2022-09-06T08:52:24.605620Z",
     "iopub.status.idle": "2022-09-06T08:52:24.704968Z",
     "shell.execute_reply": "2022-09-06T08:52:24.703589Z"
    },
    "papermill": {
     "duration": 0.109077,
     "end_time": "2022-09-06T08:52:24.707019",
     "exception": false,
     "start_time": "2022-09-06T08:52:24.597942",
     "status": "completed"
    },
    "tags": []
   },
   "outputs": [
    {
     "name": "stdout",
     "output_type": "stream",
     "text": [
      "Size of X Test:  torch.Size([26799, 2048])\n",
      "Size of Y Test:  torch.Size([26799])\n"
     ]
    }
   ],
   "source": [
    "x_test=torch.cat((x_test_negative_tensor,x_test_positive_tensor),0)\n",
    "y_test=torch.cat((y_test_negative_tensor,y_test_positive_tensor),0)\n",
    "print(\"Size of X Test: \",x_test.size())\n",
    "print(\"Size of Y Test: \",y_test.size())"
   ]
  },
  {
   "cell_type": "markdown",
   "id": "e29a9b4a",
   "metadata": {
    "papermill": {
     "duration": 0.006286,
     "end_time": "2022-09-06T08:52:24.720227",
     "exception": false,
     "start_time": "2022-09-06T08:52:24.713941",
     "status": "completed"
    },
    "tags": []
   },
   "source": [
    "<a id=\"2\"></a>\n",
    "\n",
    "# **📊 VISUALIZATION**"
   ]
  },
  {
   "cell_type": "code",
   "execution_count": 11,
   "id": "746f8113",
   "metadata": {
    "execution": {
     "iopub.execute_input": "2022-09-06T08:52:24.735310Z",
     "iopub.status.busy": "2022-09-06T08:52:24.734759Z",
     "iopub.status.idle": "2022-09-06T08:52:24.807169Z",
     "shell.execute_reply": "2022-09-06T08:52:24.806039Z"
    },
    "papermill": {
     "duration": 0.083084,
     "end_time": "2022-09-06T08:52:24.809753",
     "exception": false,
     "start_time": "2022-09-06T08:52:24.726669",
     "status": "completed"
    },
    "tags": []
   },
   "outputs": [
    {
     "data": {
      "image/png": "[encoded data removed]",
      "text/plain": [
       "<Figure size 432x288 with 1 Axes>"
      ]
     },
     "metadata": {
      "needs_background": "light"
     },
     "output_type": "display_data"
    }
   ],
   "source": [
    "plt.imshow(x_train[43897,:].reshape(64,32))\n",
    "plt.axis(\"off\");"
   ]
  },
  {
   "cell_type": "code",
   "execution_count": 12,
   "id": "f960f754",
   "metadata": {
    "execution": {
     "iopub.execute_input": "2022-09-06T08:52:24.829873Z",
     "iopub.status.busy": "2022-09-06T08:52:24.829248Z",
     "iopub.status.idle": "2022-09-06T08:52:24.882692Z",
     "shell.execute_reply": "2022-09-06T08:52:24.881919Z"
    },
    "papermill": {
     "duration": 0.065788,
     "end_time": "2022-09-06T08:52:24.884670",
     "exception": false,
     "start_time": "2022-09-06T08:52:24.818882",
     "status": "completed"
    },
    "tags": []
   },
   "outputs": [
    {
     "data": {
      "image/png": "[encoded data removed]",
      "text/plain": [
       "<Figure size 432x288 with 1 Axes>"
      ]
     },
     "metadata": {
      "needs_background": "light"
     },
     "output_type": "display_data"
    }
   ],
   "source": [
    "plt.imshow(x_train[43897,:].reshape(64,32),cmap=\"gray\")\n",
    "plt.axis(\"off\");"
   ]
  },
  {
   "cell_type": "markdown",
   "id": "3a0efd4e",
   "metadata": {
    "papermill": {
     "duration": 0.008836,
     "end_time": "2022-09-06T08:52:24.902888",
     "exception": false,
     "start_time": "2022-09-06T08:52:24.894052",
     "status": "completed"
    },
    "tags": []
   },
   "source": [
    "<a id=\"3\"></a>\n",
    "\n",
    "# **🧠 CONVOLUTIONAL MODEL**"
   ]
  },
  {
   "cell_type": "code",
   "execution_count": 13,
   "id": "ac1adf01",
   "metadata": {
    "execution": {
     "iopub.execute_input": "2022-09-06T08:52:24.923316Z",
     "iopub.status.busy": "2022-09-06T08:52:24.922890Z",
     "iopub.status.idle": "2022-09-06T08:52:24.928189Z",
     "shell.execute_reply": "2022-09-06T08:52:24.927015Z"
    },
    "papermill": {
     "duration": 0.018402,
     "end_time": "2022-09-06T08:52:24.930555",
     "exception": false,
     "start_time": "2022-09-06T08:52:24.912153",
     "status": "completed"
    },
    "tags": []
   },
   "outputs": [],
   "source": [
    "# Hyperparameters:\n",
    "num_epoch=100\n",
    "num_class=2\n",
    "batch_size=8933\n",
    "learning_rate=0.00001"
   ]
  },
  {
   "cell_type": "code",
   "execution_count": 14,
   "id": "29e0253a",
   "metadata": {
    "execution": {
     "iopub.execute_input": "2022-09-06T08:52:24.950495Z",
     "iopub.status.busy": "2022-09-06T08:52:24.950062Z",
     "iopub.status.idle": "2022-09-06T08:52:24.959814Z",
     "shell.execute_reply": "2022-09-06T08:52:24.959056Z"
    },
    "papermill": {
     "duration": 0.022274,
     "end_time": "2022-09-06T08:52:24.962104",
     "exception": false,
     "start_time": "2022-09-06T08:52:24.939830",
     "status": "completed"
    },
    "tags": []
   },
   "outputs": [],
   "source": [
    "class CNNModel(nn.Module):\n",
    "    def __init__(self):\n",
    "        super(CNNModel,self).__init__()\n",
    "        self.cnn1=nn.Conv2d(1,10,5)\n",
    "        self.pool=nn.MaxPool2d(2,2)\n",
    "        self.cnn2=nn.Conv2d(10,16,5)\n",
    "        \n",
    "        self.fc1=nn.Linear(16*13*5,520)\n",
    "        self.fc2=nn.Linear(520,130)\n",
    "        self.fc3=nn.Linear(130,num_class)\n",
    "        \n",
    "    def forward(self,x):\n",
    "        x=self.pool(F.relu((self.cnn1(x))))\n",
    "        x=self.pool(F.relu((self.cnn2(x))))\n",
    "        \n",
    "        x=x.view(-1,16*13*5)\n",
    "        x=F.relu(self.fc1(x))\n",
    "        x=F.relu(self.fc2(x))\n",
    "        x=self.fc3(x)\n",
    "        return x"
   ]
  },
  {
   "cell_type": "code",
   "execution_count": 15,
   "id": "ff15d4ec",
   "metadata": {
    "execution": {
     "iopub.execute_input": "2022-09-06T08:52:24.980633Z",
     "iopub.status.busy": "2022-09-06T08:52:24.979636Z",
     "iopub.status.idle": "2022-09-06T08:52:24.986116Z",
     "shell.execute_reply": "2022-09-06T08:52:24.984793Z"
    },
    "papermill": {
     "duration": 0.017196,
     "end_time": "2022-09-06T08:52:24.988610",
     "exception": false,
     "start_time": "2022-09-06T08:52:24.971414",
     "status": "completed"
    },
    "tags": []
   },
   "outputs": [],
   "source": [
    "# PREPARE DATA:\n",
    "train=torch.utils.data.TensorDataset(x_train,y_train)\n",
    "trainLoader=torch.utils.data.DataLoader(train,batch_size=batch_size ,shuffle=True)\n",
    "test=torch.utils.data.TensorDataset(x_test,y_test)\n",
    "testLoader=torch.utils.data.DataLoader(test,batch_size=batch_size,shuffle=False)"
   ]
  },
  {
   "cell_type": "code",
   "execution_count": 16,
   "id": "5d4da1e1",
   "metadata": {
    "execution": {
     "iopub.execute_input": "2022-09-06T08:52:25.004769Z",
     "iopub.status.busy": "2022-09-06T08:52:25.004436Z",
     "iopub.status.idle": "2022-09-06T08:52:25.017175Z",
     "shell.execute_reply": "2022-09-06T08:52:25.016318Z"
    },
    "papermill": {
     "duration": 0.023448,
     "end_time": "2022-09-06T08:52:25.019499",
     "exception": false,
     "start_time": "2022-09-06T08:52:24.996051",
     "status": "completed"
    },
    "tags": []
   },
   "outputs": [],
   "source": [
    "model=CNNModel()"
   ]
  },
  {
   "cell_type": "markdown",
   "id": "10a6b270",
   "metadata": {
    "papermill": {
     "duration": 0.006637,
     "end_time": "2022-09-06T08:52:25.033329",
     "exception": false,
     "start_time": "2022-09-06T08:52:25.026692",
     "status": "completed"
    },
    "tags": []
   },
   "source": [
    "# **🕹️ LOSS & OPTIMIZER**"
   ]
  },
  {
   "cell_type": "code",
   "execution_count": 17,
   "id": "c994f319",
   "metadata": {
    "execution": {
     "iopub.execute_input": "2022-09-06T08:52:25.049168Z",
     "iopub.status.busy": "2022-09-06T08:52:25.048828Z",
     "iopub.status.idle": "2022-09-06T08:52:25.055009Z",
     "shell.execute_reply": "2022-09-06T08:52:25.054088Z"
    },
    "papermill": {
     "duration": 0.016979,
     "end_time": "2022-09-06T08:52:25.057369",
     "exception": false,
     "start_time": "2022-09-06T08:52:25.040390",
     "status": "completed"
    },
    "tags": []
   },
   "outputs": [],
   "source": [
    "criterion=nn.CrossEntropyLoss()\n",
    "optimizer=optim.SGD(model.parameters(),lr=learning_rate,momentum=0.8)"
   ]
  },
  {
   "cell_type": "markdown",
   "id": "b7822db3",
   "metadata": {
    "papermill": {
     "duration": 0.007123,
     "end_time": "2022-09-06T08:52:25.071841",
     "exception": false,
     "start_time": "2022-09-06T08:52:25.064718",
     "status": "completed"
    },
    "tags": []
   },
   "source": [
    "# **🕸️ TRAIN NETWORK**"
   ]
  },
  {
   "cell_type": "code",
   "execution_count": 18,
   "id": "8fa48659",
   "metadata": {
    "execution": {
     "iopub.execute_input": "2022-09-06T08:52:25.087279Z",
     "iopub.status.busy": "2022-09-06T08:52:25.086921Z",
     "iopub.status.idle": "2022-09-06T10:11:56.575026Z",
     "shell.execute_reply": "2022-09-06T10:11:56.572929Z"
    },
    "papermill": {
     "duration": 4771.498663,
     "end_time": "2022-09-06T10:11:56.577496",
     "exception": false,
     "start_time": "2022-09-06T08:52:25.078833",
     "status": "completed"
    },
    "tags": []
   },
   "outputs": [
    {
     "name": "stdout",
     "output_type": "stream",
     "text": [
      "Number of EPOCH :  0\n",
      "Accuracy Test:  77.42453076607336\n",
      "Accuracy Train:  80.47128624202395\n",
      "Number of EPOCH :  1\n",
      "Accuracy Test:  77.61483637449159\n",
      "Accuracy Train:  80.6839807455502\n",
      "Number of EPOCH :  2\n",
      "Accuracy Test:  70.9392141497817\n",
      "Accuracy Train:  77.2827344303892\n",
      "Number of EPOCH :  3\n",
      "Accuracy Test:  68.95033396768537\n",
      "Accuracy Train:  75.70804880779133\n",
      "Number of EPOCH :  4\n",
      "Accuracy Test:  73.93932609425725\n",
      "Accuracy Train:  80.38732788536886\n",
      "Number of EPOCH :  5\n",
      "Accuracy Test:  72.875853576626\n",
      "Accuracy Train:  80.13545281540355\n",
      "Number of EPOCH :  6\n",
      "Accuracy Test:  72.76764058360386\n",
      "Accuracy Train:  80.27538340982872\n",
      "Number of EPOCH :  7\n",
      "Accuracy Test:  73.62215008022687\n",
      "Accuracy Train:  81.30154110227994\n",
      "Number of EPOCH :  8\n",
      "Accuracy Test:  73.83111310123512\n",
      "Accuracy Train:  81.65416620023136\n",
      "Number of EPOCH :  9\n",
      "Accuracy Test:  74.02888167468936\n",
      "Accuracy Train:  82.04783760588082\n",
      "Number of EPOCH :  10\n",
      "Accuracy Test:  74.4057614090078\n",
      "Accuracy Train:  82.42658308145826\n",
      "Number of EPOCH :  11\n",
      "Accuracy Test:  74.64457629016007\n",
      "Accuracy Train:  82.8015970745177\n",
      "Number of EPOCH :  12\n",
      "Accuracy Test:  74.85727079368633\n",
      "Accuracy Train:  83.04414343818799\n",
      "Number of EPOCH :  13\n",
      "Accuracy Test:  74.98787268181648\n",
      "Accuracy Train:  83.29788424941229\n",
      "Number of EPOCH :  14\n",
      "Accuracy Test:  75.22668756296876\n",
      "Accuracy Train:  83.5572222844136\n",
      "Number of EPOCH :  15\n",
      "Accuracy Test:  75.47296540915706\n",
      "Accuracy Train:  83.8165603194149\n",
      "Number of EPOCH :  16\n",
      "Accuracy Test:  75.57744691966118\n",
      "Accuracy Train:  84.00500018657412\n",
      "Number of EPOCH :  17\n",
      "Accuracy Test:  75.73790066793536\n",
      "Accuracy Train:  84.21582894884138\n",
      "Number of EPOCH :  18\n",
      "Accuracy Test:  75.88342848613755\n",
      "Accuracy Train:  84.38934288592858\n",
      "Number of EPOCH :  19\n",
      "Accuracy Test:  76.03268778685772\n",
      "Accuracy Train:  84.51621329154072\n",
      "Number of EPOCH :  20\n",
      "Accuracy Test:  76.16702115750587\n",
      "Accuracy Train:  84.66547259226091\n",
      "Number of EPOCH :  21\n",
      "Accuracy Test:  76.24911377290198\n",
      "Accuracy Train:  84.73450501884399\n",
      "Number of EPOCH :  22\n",
      "Accuracy Test:  76.39837307362215\n",
      "Accuracy Train:  84.90055599089519\n",
      "Number of EPOCH :  23\n",
      "Accuracy Test:  76.53643792678831\n",
      "Accuracy Train:  85.03302362028434\n",
      "Number of EPOCH :  24\n",
      "Accuracy Test:  76.59241016455837\n",
      "Accuracy Train:  85.11884771819844\n",
      "Number of EPOCH :  25\n",
      "Accuracy Test:  76.6931601925445\n",
      "Accuracy Train:  85.22146348744356\n",
      "Number of EPOCH :  26\n",
      "Accuracy Test:  76.80137318556663\n",
      "Accuracy Train:  85.3390051867607\n",
      "Number of EPOCH :  27\n",
      "Accuracy Test:  76.91331766110676\n",
      "Accuracy Train:  85.45841262733684\n",
      "Number of EPOCH :  28\n",
      "Accuracy Test:  76.93943803873279\n",
      "Accuracy Train:  85.52184783014292\n",
      "Number of EPOCH :  29\n",
      "Accuracy Test:  77.04391954923692\n",
      "Accuracy Train:  85.63192656442405\n",
      "Number of EPOCH :  30\n",
      "Accuracy Test:  77.15213254225904\n",
      "Accuracy Train:  85.73827381618717\n",
      "Number of EPOCH :  31\n",
      "Accuracy Test:  77.22676219261913\n",
      "Accuracy Train:  85.80357476025225\n",
      "Number of EPOCH :  32\n",
      "Accuracy Test:  77.3722900108213\n",
      "Accuracy Train:  85.92671368334639\n",
      "Number of EPOCH :  33\n",
      "Accuracy Test:  77.39841038844733\n",
      "Accuracy Train:  85.99388036867047\n",
      "Number of EPOCH :  34\n",
      "Accuracy Test:  77.4581141087354\n",
      "Accuracy Train:  86.05918131273555\n",
      "Number of EPOCH :  35\n",
      "Accuracy Test:  77.5439382066495\n",
      "Accuracy Train:  86.15619985820366\n",
      "Number of EPOCH :  36\n",
      "Accuracy Test:  77.52901227657749\n",
      "Accuracy Train:  86.1953804246427\n",
      "Number of EPOCH :  37\n",
      "Accuracy Test:  77.6334937870816\n",
      "Accuracy Train:  86.30545915892384\n",
      "Number of EPOCH :  38\n",
      "Accuracy Test:  77.70066047240569\n",
      "Accuracy Train:  86.38755177431993\n",
      "Number of EPOCH :  39\n",
      "Accuracy Test:  77.76409567521176\n",
      "Accuracy Train:  86.430463823277\n",
      "Number of EPOCH :  40\n",
      "Accuracy Test:  77.7939475353558\n",
      "Accuracy Train:  86.54800552259412\n",
      "Number of EPOCH :  41\n",
      "Accuracy Test:  77.83499384305385\n",
      "Accuracy Train:  86.6114407254002\n",
      "Number of EPOCH :  42\n",
      "Accuracy Test:  77.89096608082392\n",
      "Accuracy Train:  86.68420463450128\n",
      "Number of EPOCH :  43\n",
      "Accuracy Test:  77.96186424866599\n",
      "Accuracy Train:  86.76256576737939\n",
      "Number of EPOCH :  44\n",
      "Accuracy Test:  78.0439568640621\n",
      "Accuracy Train:  86.8558528303295\n",
      "Number of EPOCH :  45\n",
      "Accuracy Test:  78.09246613679615\n",
      "Accuracy Train:  86.88383894921452\n",
      "Number of EPOCH :  46\n",
      "Accuracy Test:  78.15216985708422\n",
      "Accuracy Train:  86.93607970446658\n",
      "Number of EPOCH :  47\n",
      "Accuracy Test:  78.22679950744431\n",
      "Accuracy Train:  86.98458897720064\n",
      "Number of EPOCH :  48\n",
      "Accuracy Test:  78.26411433262435\n",
      "Accuracy Train:  87.05362140378372\n",
      "Number of EPOCH :  49\n",
      "Accuracy Test:  78.29396619276838\n",
      "Accuracy Train:  87.08907048770476\n",
      "Number of EPOCH :  50\n",
      "Accuracy Test:  78.35740139557446\n",
      "Accuracy Train:  87.14131124295683\n",
      "Number of EPOCH :  51\n",
      "Accuracy Test:  78.44695697600656\n",
      "Accuracy Train:  87.17862606813686\n",
      "Number of EPOCH :  52\n",
      "Accuracy Test:  78.48800328370461\n",
      "Accuracy Train:  87.24019552968394\n",
      "Number of EPOCH :  53\n",
      "Accuracy Test:  78.60367924176275\n",
      "Accuracy Train:  87.27564461360498\n",
      "Number of EPOCH :  54\n",
      "Accuracy Test:  78.65591999701482\n",
      "Accuracy Train:  87.33534833389305\n",
      "Number of EPOCH :  55\n",
      "Accuracy Test:  78.69323482219485\n",
      "Accuracy Train:  87.38572334788611\n",
      "Number of EPOCH :  56\n",
      "Accuracy Test:  78.70069778723087\n",
      "Accuracy Train:  87.41370946677115\n",
      "Number of EPOCH :  57\n",
      "Accuracy Test:  78.805179297735\n",
      "Accuracy Train:  87.47154744580021\n",
      "Number of EPOCH :  58\n",
      "Accuracy Test:  78.83876264039704\n",
      "Accuracy Train:  87.48087615209523\n",
      "Number of EPOCH :  59\n",
      "Accuracy Test:  78.9021978432031\n",
      "Accuracy Train:  87.55923728497332\n",
      "Number of EPOCH :  60\n",
      "Accuracy Test:  78.95070711593716\n",
      "Accuracy Train:  87.56856599126833\n",
      "Number of EPOCH :  61\n",
      "Accuracy Test:  78.96563304600917\n",
      "Accuracy Train:  87.63013545281541\n",
      "Number of EPOCH :  62\n",
      "Accuracy Test:  79.01414231874324\n",
      "Accuracy Train:  87.63013545281541\n",
      "Number of EPOCH :  63\n",
      "Accuracy Test:  79.0663830739953\n",
      "Accuracy Train:  87.68237620806747\n",
      "Number of EPOCH :  64\n",
      "Accuracy Test:  79.06265159147729\n",
      "Accuracy Train:  87.65998731295944\n",
      "Number of EPOCH :  65\n",
      "Accuracy Test:  79.13354975931938\n",
      "Accuracy Train:  87.75140863465055\n",
      "Number of EPOCH :  66\n",
      "Accuracy Test:  79.16340161946341\n",
      "Accuracy Train:  87.75327437590956\n",
      "Number of EPOCH :  67\n",
      "Accuracy Test:  79.17459606701743\n",
      "Accuracy Train:  87.76446882346356\n",
      "Number of EPOCH :  68\n",
      "Accuracy Test:  79.21937385723348\n",
      "Accuracy Train:  87.81297809619763\n",
      "Number of EPOCH :  69\n",
      "Accuracy Test:  79.27534609500354\n",
      "Accuracy Train:  87.86895033396769\n",
      "Number of EPOCH :  70\n",
      "Accuracy Test:  79.29773499011156\n",
      "Accuracy Train:  87.90066793537072\n",
      "Number of EPOCH :  71\n",
      "Accuracy Test:  79.29773499011156\n",
      "Accuracy Train:  87.92305683047874\n",
      "Number of EPOCH :  72\n",
      "Accuracy Test:  79.32385536773761\n",
      "Accuracy Train:  87.95104294936378\n",
      "Number of EPOCH :  73\n",
      "Accuracy Test:  79.36490167543565\n",
      "Accuracy Train:  87.93984850180976\n",
      "Number of EPOCH :  74\n",
      "Accuracy Test:  79.43579984327774\n",
      "Accuracy Train:  88.01447815216986\n",
      "Number of EPOCH :  75\n",
      "Accuracy Test:  79.46192022090376\n",
      "Accuracy Train:  88.03313556475987\n",
      "Number of EPOCH :  76\n",
      "Accuracy Test:  79.51416097615582\n",
      "Accuracy Train:  88.06485316616292\n",
      "Number of EPOCH :  77\n",
      "Accuracy Test:  79.52162394119183\n",
      "Accuracy Train:  88.09843650882496\n",
      "Number of EPOCH :  78\n",
      "Accuracy Test:  79.54774431881786\n",
      "Accuracy Train:  88.12269114519198\n",
      "Number of EPOCH :  79\n",
      "Accuracy Test:  79.5701332139259\n",
      "Accuracy Train:  88.19545505429308\n",
      "Number of EPOCH :  80\n",
      "Accuracy Test:  79.61117952162394\n",
      "Accuracy Train:  88.21038098436509\n",
      "Number of EPOCH :  81\n",
      "Accuracy Test:  79.64849434680399\n",
      "Accuracy Train:  88.25702451584014\n",
      "Number of EPOCH :  82\n",
      "Accuracy Test:  79.61864248665995\n",
      "Accuracy Train:  88.27754766968917\n",
      "Number of EPOCH :  83\n",
      "Accuracy Test:  79.65222582932199\n",
      "Accuracy Train:  88.32045971864622\n",
      "Number of EPOCH :  84\n",
      "Accuracy Test:  79.64849434680399\n",
      "Accuracy Train:  88.33538564871823\n",
      "Number of EPOCH :  85\n",
      "Accuracy Test:  79.68954065450204\n",
      "Accuracy Train:  88.3782976976753\n",
      "Number of EPOCH :  86\n",
      "Accuracy Test:  79.70819806709206\n",
      "Accuracy Train:  88.42494122915033\n",
      "Number of EPOCH :  87\n",
      "Accuracy Test:  79.73058696220008\n",
      "Accuracy Train:  88.44919586551737\n",
      "Number of EPOCH :  88\n",
      "Accuracy Test:  79.72685547968207\n",
      "Accuracy Train:  88.4753162431434\n",
      "Number of EPOCH :  89\n",
      "Accuracy Test:  79.76043882234411\n",
      "Accuracy Train:  88.50516810328743\n",
      "Number of EPOCH :  90\n",
      "Accuracy Test:  79.82387402515019\n",
      "Accuracy Train:  88.53688570469048\n",
      "Number of EPOCH :  91\n",
      "Accuracy Test:  79.84999440277622\n",
      "Accuracy Train:  88.57420052987052\n",
      "Number of EPOCH :  92\n",
      "Accuracy Test:  79.88357774543826\n",
      "Accuracy Train:  88.63203850889958\n",
      "Number of EPOCH :  93\n",
      "Accuracy Test:  79.89850367551028\n",
      "Accuracy Train:  88.62830702638158\n",
      "Number of EPOCH :  94\n",
      "Accuracy Test:  79.9208925706183\n",
      "Accuracy Train:  88.67681629911564\n",
      "Number of EPOCH :  95\n",
      "Accuracy Test:  79.93954998320832\n",
      "Accuracy Train:  88.70293667674167\n",
      "Number of EPOCH :  96\n",
      "Accuracy Test:  79.95820739579835\n",
      "Accuracy Train:  88.71972834807269\n",
      "Number of EPOCH :  97\n",
      "Accuracy Test:  79.98432777342438\n",
      "Accuracy Train:  88.75517743199373\n",
      "Number of EPOCH :  98\n",
      "Accuracy Test:  80.01791111608642\n",
      "Accuracy Train:  88.8036867047278\n",
      "Number of EPOCH :  99\n",
      "Accuracy Test:  80.0029851860144\n",
      "Accuracy Train:  88.79808948095078\n",
      "*********************************\n",
      "Train is DONE!\n",
      "*********************************\n",
      "Process Time:  79.52457888523737\n"
     ]
    }
   ],
   "source": [
    "start=time.time()\n",
    "\n",
    "train_accuracy=[]\n",
    "test_accuracy=[]\n",
    "loss_list=[]\n",
    "\n",
    "use_gpu=False\n",
    "\n",
    "for epoch in range(num_epoch):\n",
    "    for i,data in enumerate(trainLoader,0):\n",
    "        inputs,labels=data\n",
    "        inputs=inputs.view(batch_size,1,64,32)\n",
    "        inputs=inputs.float()\n",
    "        \n",
    "        # Gradient:\n",
    "        optimizer.zero_grad()\n",
    "        # Forward:\n",
    "        outputs=model(inputs)\n",
    "        # Loss:\n",
    "        loss=criterion(outputs,labels)\n",
    "        # Backward:\n",
    "        loss.backward()\n",
    "        # Update Weights:\n",
    "        optimizer.step()\n",
    "        \n",
    "# TEST\n",
    "    print(\"Number of EPOCH : \",epoch)\n",
    "    correct=0\n",
    "    total=0\n",
    "    with torch.no_grad():\n",
    "        for data in testLoader:\n",
    "            images,labels=data\n",
    "            images=images.view(batch_size,1,64,32)\n",
    "            images=images.float()\n",
    "            \n",
    "            outputs=model(images)\n",
    "            _,predicted=torch.max(outputs.data,1)\n",
    "            total+=labels.size(0)\n",
    "            correct+=(predicted==labels).sum().item()\n",
    "    testAccuracy=100*correct/total\n",
    "    print(\"Accuracy Test: \",testAccuracy)\n",
    "    test_accuracy.append(testAccuracy)\n",
    "    \n",
    "# TRAIN        \n",
    "    correct=0\n",
    "    total=0\n",
    "    with torch.no_grad():\n",
    "        for data in trainLoader:\n",
    "            images,labels=data\n",
    "            images=images.view(batch_size,1,64,32)\n",
    "            images=images.float()\n",
    "            \n",
    "            outputs=model(images)\n",
    "            _,predicted=torch.max(outputs.data,1)\n",
    "            total+=labels.size(0)\n",
    "            correct+=(predicted==labels).sum().item()\n",
    "    trainAccuracy=100*correct/total\n",
    "    print(\"Accuracy Train: \",trainAccuracy)\n",
    "    train_accuracy.append(trainAccuracy)\n",
    "print(\"*********************************\")\n",
    "print(\"Train is DONE!\")\n",
    "print(\"*********************************\")\n",
    "end=time.time()\n",
    "process_time=(end-start)/60\n",
    "print(\"Process Time: \",process_time)"
   ]
  },
  {
   "cell_type": "markdown",
   "id": "4c44c5a5",
   "metadata": {
    "papermill": {
     "duration": 0.02245,
     "end_time": "2022-09-06T10:11:56.623446",
     "exception": false,
     "start_time": "2022-09-06T10:11:56.600996",
     "status": "completed"
    },
    "tags": []
   },
   "source": [
    "<a id=\"4\"></a>\n",
    "\n",
    "# **📊 VISUALIZATION of RESULT**"
   ]
  },
  {
   "cell_type": "code",
   "execution_count": 19,
   "id": "ba8fcd7f",
   "metadata": {
    "execution": {
     "iopub.execute_input": "2022-09-06T10:11:56.671603Z",
     "iopub.status.busy": "2022-09-06T10:11:56.671011Z",
     "iopub.status.idle": "2022-09-06T10:11:56.827657Z",
     "shell.execute_reply": "2022-09-06T10:11:56.827065Z"
    },
    "papermill": {
     "duration": 0.182873,
     "end_time": "2022-09-06T10:11:56.829422",
     "exception": false,
     "start_time": "2022-09-06T10:11:56.646549",
     "status": "completed"
    },
    "tags": []
   },
   "outputs": [
    {
     "data": {
      "image/png": "[encoded data removed]",
      "text/plain": [
       "<Figure size 432x288 with 1 Axes>"
      ]
     },
     "metadata": {
      "needs_background": "light"
     },
     "output_type": "display_data"
    }
   ],
   "source": [
    "epochs= []\n",
    "for i in range(num_epoch):\n",
    "    epochs.append(i)\n",
    "    \n",
    "plt.plot(epochs,train_accuracy, label=\"Train\")\n",
    "plt.plot(epochs,test_accuracy, label=\"Test\")\n",
    "plt.title(\"Train-Test Accuracy\")\n",
    "plt.xlabel(\"Number of Epochs\")\n",
    "plt.xlabel(\"Accuracy\")\n",
    "plt.legend()\n",
    "plt.show()"
   ]
  }
 ],
 "metadata": {
  "kernelspec": {
   "display_name": "Python 3 (ipykernel)",
   "language": "python",
   "name": "python3"
  },
  "language_info": {
   "codemirror_mode": {
    "name": "ipython",
    "version": 3
   },
   "file_extension": ".py",
   "mimetype": "text/x-python",
   "name": "python",
   "nbconvert_exporter": "python",
   "pygments_lexer": "ipython3",
   "version": "3.9.7"
  },
  "papermill": {
   "default_parameters": {},
   "duration": 5195.033831,
   "end_time": "2022-09-06T10:11:57.782989",
   "environment_variables": {},
   "exception": null,
   "input_path": "__notebook__.ipynb",
   "output_path": "__notebook__.ipynb",
   "parameters": {},
   "start_time": "2022-09-06T08:45:22.749158",
   "version": "2.3.4"
  }
 },
 "nbformat": 4,
 "nbformat_minor": 5
}
